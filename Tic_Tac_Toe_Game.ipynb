{
  "nbformat": 4,
  "nbformat_minor": 0,
  "metadata": {
    "colab": {
      "provenance": [],
      "authorship_tag": "ABX9TyPmqyZdDsxAHa4UWMXmSZZ4",
      "include_colab_link": true
    },
    "kernelspec": {
      "name": "python3",
      "display_name": "Python 3"
    },
    "language_info": {
      "name": "python"
    }
  },
  "cells": [
    {
      "cell_type": "markdown",
      "metadata": {
        "id": "view-in-github",
        "colab_type": "text"
      },
      "source": [
        "<a href=\"https://colab.research.google.com/github/MJ7869/Tic-Tac-Toe-Game/blob/main/Tic_Tac_Toe_Game.ipynb\" target=\"_parent\"><img src=\"https://colab.research.google.com/assets/colab-badge.svg\" alt=\"Open In Colab\"/></a>"
      ]
    },
    {
      "cell_type": "code",
      "source": [
        "def boardd(board):\n",
        "    # This function displays the board of the game\n",
        "    print(board[0] + \"|\" + board[1] + \"|\" + board[2])\n",
        "    print(board[3] + \"|\" + board[4] + \"|\" + board[5])\n",
        "    print(board[6] + \"|\" + board[7] + \"|\" + board[8])\n",
        "\n",
        "def winner(board):\n",
        "    for i in range(3):\n",
        "        if board[i] == board[i+3] == board[i+6] != \"-\":  # checks vertically\n",
        "            return board[i]\n",
        "        if board[i*3] == board[i*3+1] == board[i*3+2] != \"-\":  # checks horizontally\n",
        "            return board[i*3]\n",
        "\n",
        "    if board[0] == board[4] == board[8] != \"-\":  # checks diagonally\n",
        "        return board[0]\n",
        "    if board[2] == board[4] == board[6] != \"-\":  # checks diagonally\n",
        "        return board[2]\n",
        "\n",
        "    if \"-\" not in board:  # checks for draw\n",
        "        return \"Draw\"\n",
        "\n",
        "if __name__ == \"__main__\":\n",
        "    print('Welcome to the Game')\n",
        "    turn = 1\n",
        "    board = [\"-\", \"-\", \"-\",\n",
        "             \"-\", \"-\", \"-\",\n",
        "             \"-\", \"-\", \"-\"]\n",
        "\n",
        "    while True:\n",
        "        boardd(board)\n",
        "        if turn == 1:\n",
        "            symbol = \"X\"\n",
        "            print(\"X's chance: \")\n",
        "        else:\n",
        "            symbol = \"0\"\n",
        "            print(\"0's chance: \")\n",
        "\n",
        "        try:\n",
        "            a = int(input(\"Enter a position (0-8): \"))\n",
        "            if 0 <= a <= 8 and board[a] == \"-\":\n",
        "                board[a] = symbol  # update board\n",
        "                result = winner(board)  # check board status\n",
        "\n",
        "                if result == \"X\" or result == \"0\":\n",
        "                    boardd(board)\n",
        "                    print(\"WINNER IS\", symbol)\n",
        "                    break\n",
        "\n",
        "                elif result == \"Draw\":\n",
        "                    boardd(board)\n",
        "                    print(\"IT'S A DRAW MATCH\")\n",
        "                    break\n",
        "\n",
        "                turn = 1 if turn == 0 else 0\n",
        "            else:\n",
        "                print(\"Invalid position, please re-enter a position between 0 to 8\")\n",
        "\n",
        "        except ValueError:\n",
        "            print(\"Invalid input, please enter a number\")\n",
        "\n"
      ],
      "metadata": {
        "colab": {
          "base_uri": "https://localhost:8080/"
        },
        "id": "4rxjy-57bAqg",
        "outputId": "17c6ef9b-2112-47dd-bb6f-5e39f0621f0d"
      },
      "execution_count": 6,
      "outputs": [
        {
          "output_type": "stream",
          "name": "stdout",
          "text": [
            "Welcome to the Game\n",
            "-|-|-\n",
            "-|-|-\n",
            "-|-|-\n",
            "X's chance: \n",
            "Enter a position (0-8): 1\n",
            "-|X|-\n",
            "-|-|-\n",
            "-|-|-\n",
            "0's chance: \n",
            "Enter a position (0-8): 8\n",
            "-|X|-\n",
            "-|-|-\n",
            "-|-|0\n",
            "X's chance: \n",
            "Enter a position (0-8): 2\n",
            "-|X|X\n",
            "-|-|-\n",
            "-|-|0\n",
            "0's chance: \n",
            "Enter a position (0-8): 0\n",
            "0|X|X\n",
            "-|-|-\n",
            "-|-|0\n",
            "X's chance: \n",
            "Enter a position (0-8): 4\n",
            "0|X|X\n",
            "-|X|-\n",
            "-|-|0\n",
            "0's chance: \n",
            "Enter a position (0-8): 6\n",
            "0|X|X\n",
            "-|X|-\n",
            "0|-|0\n",
            "X's chance: \n",
            "Enter a position (0-8): 7\n",
            "0|X|X\n",
            "-|X|-\n",
            "0|X|0\n",
            "WINNER IS X\n"
          ]
        }
      ]
    },
    {
      "cell_type": "code",
      "source": [],
      "metadata": {
        "id": "Nh7btcOVwi8t"
      },
      "execution_count": null,
      "outputs": []
    }
  ]
}